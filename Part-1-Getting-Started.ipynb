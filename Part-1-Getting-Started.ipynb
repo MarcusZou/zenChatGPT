{
 "cells": [
  {
   "cell_type": "markdown",
   "metadata": {},
   "source": [
    "### A Nutshell of ChatGPT - Part 1: Getting Started\n",
    "\n",
    "9 December 2022 | by Marcus Zou"
   ]
  },
  {
   "cell_type": "code",
   "execution_count": null,
   "metadata": {},
   "outputs": [],
   "source": [
    "# Install the library - Credits to `terry3041`\n",
    "#!pip install -q pyChatGPT"
   ]
  },
  {
   "cell_type": "code",
   "execution_count": null,
   "metadata": {},
   "outputs": [],
   "source": [
    "# Import the library\n",
    "from pyChatGPT import ChatGPT"
   ]
  },
  {
   "cell_type": "markdown",
   "metadata": {},
   "source": [
    "#### Obtaining session_token\n",
    "\n",
    "1. Go to https://chat.openai.com/chat and open the developer tools by pressing key `F12`.\n",
    "2. Find the `__Secure-next-auth.session-token` cookie in `Application` > `Storage` > `Cookies` > `https://chat.openai.com`.\n",
    "3. Copy the value in the `Cookie Value` field.\n",
    "\n",
    "![_secure-next-auth.session-token.png](resources/_002_secure-next-auth.session-token.png)\n"
   ]
  },
  {
   "cell_type": "code",
   "execution_count": null,
   "metadata": {},
   "outputs": [],
   "source": [
    "# Session Token down below\n",
    "session_token = \"eyJhbGciOiJkaXIiLCJlbmMiOiJBMjU2R0NNIn0..0gMx-FTukGAdUu_t.3RUr79WDm0_9o3QPKe089shN332m6Eit2Mj8zMpLCbmPCyii_4b1cRReZqASLtB2TdsN090Q784iNfZx8UUPjfY6BzsM_B6bhpOB5QYBtkRzW_mUz5BV-sJKem_b06z_6J7F4_i4hxs7sRpq7rzRcR2_TLm9yrhvIkM8WvC-04bLnz8MPU6cFtgoLf8hqz9Ea_4bBuE_e90Yq0CXwIkaoghvQ0l31Ec84sdNuV2TIZB6Ilv8krH3ttP6LWAoP5v0wR_d7q75WDQaSQ0RpKiqgw87-M8RAGNR8zgBPqH-iUrYoAeXsNfQYQUW3p7Q8YCR1A5nBd7HqNrAJIFAOZOhCMm-tLnsfSKagz1WisDGUP2adHlijQAW9YOezPHB0wIlGJt5az_a7lxpfGGe3MvsH1qHU7Foqd5ytL6frJaszJEgBk-67uOeaErBAjbH7F1muaCA11igyD32US2brTCQRDINsd6-Tb0e0jzcwYcWtvAhAmPL-Bha0-xBI_zjSaTpYr6ar9cglwn20qzAkleusiOSFZb3pTR53zAPP2vNwqg3avEpujjnQjhRH_HhtTop3d5ij6LN9uyEqFIsg-KEgF1Oxl8oazp6zvz2KgRKdnNXk8pkiU9ZUP-VXiN4bTxdjJOEIbfdMwcss_Z9U_kOiqzsEPAE2PNhN758RreZ9NtcrpsNptXxhIQ2AKtiY9IPQUd3DOkX1GZcsu3qBtGM3Dy4gsCVmcMuey43ZGovbR97T22bR8TiCXRMdQ3pUU0T4yR2WjH6q--5B95yDMj7yctAuMg0H5Z7bUT-hnEa1SSKg_P7Vv_vOUFnYi2ldlg830sD50IXRFPPOUwrGWfU0HtnEDC1q_pCQXD-Qb39HYcZNn93qHCG1Dkh5KrBPxznAB24YOkMedkaAfi_JdIHdyU1G6piJNViG0GT-Sv8sHVsp7Z8oyL5iKfoIE_ydVtCpzq6XvUasja-2ks8xj8Tgiy0EI6jyLVe6x9n2PIOFjSgY3zhbcvmMlyObFual0HAeLZdve3HaUd_RVJ1GvDUfYkus0uUiv91D0_dlbFUSmb7I4hG-tSlwhCADYBRPyATp5yAJuBmMOohh4Ia032fWzKS8-tV3GNpxtia_Y6lB5mNR2HphZJpdVU2Vkh69VhBXGJaA9fH8RGp7_NyGlsZK1eCTgj1klcifeKQTrpLroNIQT63X8pGajjPBC2j6ZpYAitVkdg9NZPDJLPaxkr6LHftojuKaSwDuCCJWMj16smZ1SMOV8rUu2uLd1Ts9NkqyechIqFUkLcFxYAxXmd6lLrdPzWNHjCe21oCx36R-885Gc5XLWEtsuarRYzpF-iTMmHFO-uF4vlOU3Bld9zUKbTdVE8TXChpg1jx4GAeRqBZOYBxWnMD1A1e2weG73TZBZCimIEyr_qVCD43ODHl9c1XbAF6RBNYWexHSadal_238XhS3tmHD4R-AxjIdV7rng72XXVdJBRhHrpJa_56pkKJAE1Z55QXvOAru-72gPzkDXnyzGM8akAXI63p9N5C9GOG1JP6npX8sYKvrcuI5LBvuzifNZnyXDpldgkaijowXXc0fi2rHqxIntcgruKAu2Uv_yUEhUBJUO1KiVa_2CMOOyk282ScotlgK90t1ftD23fppVSNA13K0iR_GUzW9-Hj9FbKlHs8ZTcaJLnVCDU2H-YG5aNLY9ORvTZIkooNtue8i2ETj_XB-Y6F_L4yciQWu0fCZpy0WkHlJblnzY2GDx7_UsyWqv8l8klmqTDVYrIIcub3fYAXrv7FARXbgU882b1K-q6NiVELr2h90MROxH-pkYjoDIzyUSkQLDksWqB7AFrnGe0jdQs3GlcMqIxC3XRQAldXyYqLmALllghe9vzd1-mv5sOzRiYXmvahjaPE2ZhyMOHtBfARa5l_Qre1K2jo2aSe39_ht6GW-57bu3DlI2lZAq_Bx922S-bs4iwlEzSYhoAtzyV0L-8Iv8SmXdg38SbaBBAgMaRWfRTZbN99vQVvXQ1cOVDZJNirr7q3_9cQJ3fk5AxBOeNbwnLZdP8YxU37mYonGB2-HhiereEa8H1JbcjPoJq5ySiRKU7oIfpw5ULX2SjrGe_Z56sJJcw9P8TQSEmvShUmS6lpgR-DpVcExeXc3glyyW0rIOJ1FFCTelbWda2CBKv6y8MwNeNsgs9ZrhGp5zZTavNxrR1bpjwty8GIVywVApMlEjO8Al7-pebL-IbN00FOK5Ob.BY5hYOHscM7_0gUtu8UUwA\"\n"
   ]
  },
  {
   "cell_type": "code",
   "execution_count": null,
   "metadata": {},
   "outputs": [],
   "source": [
    "# Create an API\n",
    "my_api = ChatGPT(session_token)\n",
    "\n",
    "# Create/send a response to ChatGPT engine\n",
    "response = my_api.send_message(\"Explain Sedimentology in a philodophical manner\")"
   ]
  },
  {
   "cell_type": "code",
   "execution_count": null,
   "metadata": {},
   "outputs": [],
   "source": [
    "print(response[\"message\"])"
   ]
  },
  {
   "cell_type": "code",
   "execution_count": null,
   "metadata": {},
   "outputs": [],
   "source": [
    "# More fun parts\n",
    "response_1 = my_api.send_message(\"Can you explain such to a layman?\")"
   ]
  },
  {
   "cell_type": "code",
   "execution_count": null,
   "metadata": {},
   "outputs": [],
   "source": [
    "print(response_1[\"message\"])"
   ]
  },
  {
   "cell_type": "code",
   "execution_count": null,
   "metadata": {},
   "outputs": [],
   "source": [
    "# More fun with coding capacity\n",
    "response_2 = my_api.send_message(\"Can you write some codes about decision tree in Python?\")"
   ]
  },
  {
   "cell_type": "code",
   "execution_count": null,
   "metadata": {},
   "outputs": [],
   "source": [
    "print(response_2[\"message\"])"
   ]
  },
  {
   "cell_type": "markdown",
   "metadata": {},
   "source": [
    "#### Here is the snapshot, amazing! Look at how beautiful the codes are!\n",
    "<img src=\"resources/_004_codeability.png\" alt=\"whisper-roadmap\" style=\"width: 500px;\"/>"
   ]
  },
  {
   "cell_type": "code",
   "execution_count": null,
   "metadata": {},
   "outputs": [],
   "source": [
    "# More fun with Geoscience\n",
    "response_3 = my_api.send_message(\"Write an essay about Waha Oil Reservoir in Sirte Basin, Libya, please!\")"
   ]
  },
  {
   "cell_type": "code",
   "execution_count": null,
   "metadata": {},
   "outputs": [],
   "source": [
    "print(response_3[\"message\"])"
   ]
  },
  {
   "cell_type": "code",
   "execution_count": null,
   "metadata": {},
   "outputs": [],
   "source": [
    "# More fun with geoscience\n",
    "response_4 = my_api.send_message(\"Explain the Horizontal drilling in a philosophical manner?\")"
   ]
  },
  {
   "cell_type": "code",
   "execution_count": null,
   "metadata": {},
   "outputs": [],
   "source": [
    "print(response_4[\"message\"])"
   ]
  }
 ],
 "metadata": {
  "kernelspec": {
   "display_name": "Python 3 (ipykernel)",
   "language": "python",
   "name": "python3"
  },
  "language_info": {
   "codemirror_mode": {
    "name": "ipython",
    "version": 3
   },
   "file_extension": ".py",
   "mimetype": "text/x-python",
   "name": "python",
   "nbconvert_exporter": "python",
   "pygments_lexer": "ipython3",
   "version": "3.8.10"
  },
  "vscode": {
   "interpreter": {
    "hash": "fdb3b0d5e471e949725138a1ef716dcf553b73f8a3243b6f92baf3fc7cfc3d2b"
   }
  }
 },
 "nbformat": 4,
 "nbformat_minor": 2
}
